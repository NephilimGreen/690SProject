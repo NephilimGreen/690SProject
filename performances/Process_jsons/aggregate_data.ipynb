{
 "cells": [
  {
   "cell_type": "code",
   "execution_count": 84,
   "id": "3e99324b",
   "metadata": {},
   "outputs": [],
   "source": [
    "import pandas as pd\n",
    "import json \n",
    "import os\n",
    "import glob\n",
    "import matplotlib.pyplot as plt"
   ]
  },
  {
   "cell_type": "code",
   "execution_count": 85,
   "id": "d4ef02f7",
   "metadata": {},
   "outputs": [],
   "source": [
    "df = pd.DataFrame(columns=[\"user\", \"mode\", \"game\", \"iter\", \n",
    "                           \"performance_mean\", \"performance_std\", \n",
    "                           \"frequency_overall\", \"frequency_good_bad\", \n",
    "                           \"timing_overall\", \"timing_good\", \"timing_bad\", \"timing_good_indices\", \"timing_bad_indices\"])\n"
   ]
  },
  {
   "cell_type": "code",
   "execution_count": 86,
   "id": "aa7d1583",
   "metadata": {},
   "outputs": [],
   "source": [
    "usernames = [\"Frog\", \"Mob\", \"morf\", \"Red\", \"Something\", \"TarotMaster\", \"Thistle\", \"Tomato\", \"Tro\"]\n",
    "games = [\"snake\", \"ttt\", \"mc\"]\n",
    "\n",
    "#path = '../'\n",
    "#for filename in glob.glob(os.path.join(path, '*.json')): #only process .JSON files in folder.      \n",
    "    #print(filename)\n",
    "#    with open(filename, encoding='utf-8', mode='r') as currentFile:\n",
    "#        print(filename)\n",
    "        #data=currentFile.read().replace('\\n', '')\n",
    "        #keyword = json.loads(data)[\"keytolookup\"]\n",
    "        #if keyword not in keywordList:\n",
    "        #    keywordList.append(keyword)"
   ]
  },
  {
   "cell_type": "code",
   "execution_count": 87,
   "id": "55d19077",
   "metadata": {},
   "outputs": [],
   "source": [
    "path = \"../\"\n",
    "for user in usernames:\n",
    "    for game in games:\n",
    "        perf = path+user+\"_\"+game+\"_performance.json\"\n",
    "        freq = path+user+\"_\"+game+\"_frequency.json\"\n",
    "        tim = path+user+\"_\"+game+\"_timing.json\"\n",
    "        \n",
    "        with open(perf, encoding='utf-8', mode='r') as currentFile:\n",
    "            perf_data=json.load(currentFile)\n",
    "        with open(freq, encoding='utf-8', mode='r') as currentFile:\n",
    "            freq_data=json.load(currentFile)\n",
    "        with open(tim, encoding='utf-8', mode='r') as currentFile:\n",
    "            tim_data=json.load(currentFile)\n",
    "            \n",
    "            \n",
    "        for i in range(3):\n",
    "            game_iter = i+1\n",
    "            good_inds = \"None\"\n",
    "            bad_inds = \"None\"\n",
    "            bad = -1\n",
    "            good = -1\n",
    "            overall = -1\n",
    "            freq_overall = -1\n",
    "            freq_goodbad = -1\n",
    "            if game!=\"ttt\":\n",
    "                good_inds = \", \".join([str(x) for x in tim_data[i][1][\"good_indeces\"]])\n",
    "                bad_inds = \", \".join([str(x) for x in tim_data[i][1][\"bad_indeces\"]])\n",
    "                overall = tim_data[i][1][\"overall\"]\n",
    "                bad =  tim_data[i][1][\"bad\"]\n",
    "                good =  tim_data[i][1][\"good\"]\n",
    "                freq_overall = freq_data[i][1][\"overall\"]\n",
    "                freq_goodbad = freq_data[i][1][\"good_bad\"]\n",
    "            \n",
    "            #print(user)\n",
    "            #print(game)\n",
    "            #print(game_iter)\n",
    "            #print(perf_data[i][1][\"mean\"], perf_data[i][1][\"std\"])\n",
    "            #print(freq_data[i][1][\"overall\"])\n",
    "            #print(freq_data[i][1][\"good_bad\"])\n",
    "            #print(overall, good, bad, good_inds, bad_inds)\n",
    "            df.loc[-1] = [user, \"retrospective\", game, game_iter, \n",
    "                           perf_data[i][1][\"mean\"], perf_data[i][1][\"std\"],\n",
    "                           freq_overall, freq_goodbad,\n",
    "                           overall, good, bad, good_inds, bad_inds]\n",
    "            df = df.reset_index(drop=True)"
   ]
  },
  {
   "cell_type": "code",
   "execution_count": 88,
   "id": "0a904085",
   "metadata": {},
   "outputs": [],
   "source": [
    "lives_mc = '../mc_performance_all_lives.json'\n",
    "lives_ttt = '../ttt_performance_all_lives.json'\n",
    "lives_snake = '../snake_performance_all_lives.json'\n",
    "with open(lives_mc, encoding='utf-8', mode='r') as currentFile:\n",
    "    mc_perf=json.load(currentFile)\n",
    "with open(lives_ttt, encoding='utf-8', mode='r') as currentFile:\n",
    "    ttt_perf=json.load(currentFile)\n",
    "with open(lives_snake, encoding='utf-8', mode='r') as currentFile:\n",
    "    snake_perf=json.load(currentFile)"
   ]
  },
  {
   "cell_type": "code",
   "execution_count": 89,
   "id": "1942b508",
   "metadata": {},
   "outputs": [],
   "source": [
    "path = \"../live_performances/\"\n",
    "usernames = [\"Frog\", \"Mob\", \"morf\", \"Red\", \"Something\", \"TarotMaster\", \"Thistle\", \"Tomato\", \"TRo\"]\n",
    "\n",
    "for user in usernames:\n",
    "    for game in games:\n",
    "        #perf = path+user+\"_\"+game+\"_performance.json\"\n",
    "        freq = path+user+\"_\"+game+\"_frequency.json\"\n",
    "        tim = path+user+\"_\"+game+\"_timing.json\"\n",
    "        \n",
    "        #with open(perf, encoding='utf-8', mode='r') as currentFile:\n",
    "        #    perf_data=json.load(currentFile)\n",
    "        with open(freq, encoding='utf-8', mode='r') as currentFile:\n",
    "            freq_data=json.load(currentFile)\n",
    "        with open(tim, encoding='utf-8', mode='r') as currentFile:\n",
    "            tim_data=json.load(currentFile)\n",
    "            \n",
    "            \n",
    "        for i in range(3):\n",
    "            game_iter = i+1\n",
    "            good_inds = \"None\"\n",
    "            bad_inds = \"None\"\n",
    "            bad = -1\n",
    "            good = -1\n",
    "            overall = -1\n",
    "            freq_overall = -1\n",
    "            freq_goodbad = -1\n",
    "            if game!=\"ttt\":\n",
    "                good_inds = \", \".join([str(x) for x in tim_data[i][1][\"good_indeces\"]])\n",
    "                bad_inds = \", \".join([str(x) for x in tim_data[i][1][\"bad_indeces\"]])\n",
    "                overall = tim_data[i][1][\"overall\"]\n",
    "                bad =  tim_data[i][1][\"bad\"]\n",
    "                good =  tim_data[i][1][\"good\"]\n",
    "                freq_overall = freq_data[i][1][\"overall\"]\n",
    "                freq_goodbad = freq_data[i][1][\"good_bad\"]\n",
    "            \n",
    "            perf_key  = user + \"_live_\" + game + \"_\" + str(game_iter) \n",
    "            if game==\"mc\":\n",
    "                #print(\"mc\", perf_key)\n",
    "                perf_data = [x for x in mc_perf if x[0]==perf_key][0]\n",
    "            elif game==\"snake\":\n",
    "                #print(\"snek\", perf_key)\n",
    "                perf_data = [x for x in snake_perf if x[0]==perf_key][0]\n",
    "            elif game==\"ttt\":\n",
    "                #print(\"ttt\", perf_key)\n",
    "                perf_data = [x for x in ttt_perf if x[0]==perf_key][0]\n",
    "            else:\n",
    "                print(\"ERROR\")\n",
    "                \n",
    "            df.loc[-1] = [user, \"live\", game, game_iter, \n",
    "                           perf_data[1][\"mean\"], perf_data[1][\"std\"],\n",
    "                           freq_overall, freq_goodbad,\n",
    "                           overall, good, bad, good_inds, bad_inds]\n",
    "            df = df.reset_index(drop=True)"
   ]
  },
  {
   "cell_type": "code",
   "execution_count": 90,
   "id": "e706969e",
   "metadata": {
    "scrolled": false
   },
   "outputs": [],
   "source": [
    "df.loc[df.user == \"Tro\", \"user\"] = \"TRo\""
   ]
  },
  {
   "cell_type": "code",
   "execution_count": 91,
   "id": "21d69f11",
   "metadata": {},
   "outputs": [],
   "source": [
    "df.to_csv(\"data.csv\")"
   ]
  },
  {
   "cell_type": "code",
   "execution_count": 109,
   "id": "2e3ce1dc",
   "metadata": {},
   "outputs": [],
   "source": [
    "#grouped = df.groupby(['game', \"mode\", 'iter']).mean()\n",
    "#grouped"
   ]
  },
  {
   "cell_type": "code",
   "execution_count": 110,
   "id": "8f267924",
   "metadata": {},
   "outputs": [],
   "source": [
    "#plt.plot(grouped.loc[\"mc\"].loc[\"live\"][\"performance_mean\"], label='live')\n",
    "#plt.plot(grouped.loc[\"mc\"].loc[\"retrospective\"][\"performance_mean\"], label=\"retrospective\")\n",
    "#plt.legend()"
   ]
  },
  {
   "cell_type": "code",
   "execution_count": 111,
   "id": "1f8a0240",
   "metadata": {},
   "outputs": [],
   "source": [
    "#plt.plot(grouped.loc[\"mc\"].loc[\"live\"][\"performance_mean\"], label='live')\n",
    "#plt.plot(grouped.loc[\"mc\"].loc[\"retrospective\"][\"performance_mean\"], label=\"retrospective\")\n",
    "#plt.legend()"
   ]
  },
  {
   "cell_type": "code",
   "execution_count": 112,
   "id": "beb6416c",
   "metadata": {},
   "outputs": [],
   "source": [
    "#gr = df.groupby([\"mode\", \"game\", \"user\", \"iter\"]).mean()\n",
    "#gr"
   ]
  },
  {
   "cell_type": "code",
   "execution_count": 113,
   "id": "1d5aeb2d",
   "metadata": {},
   "outputs": [],
   "source": [
    "#for user in usernames:\n",
    "#    plt.plot(gr.loc[\"live\"].loc[\"mc\"].loc[user][\"frequency_overall\"], label=user)\n",
    "#plt.legend()"
   ]
  },
  {
   "cell_type": "code",
   "execution_count": 103,
   "id": "e58e6849",
   "metadata": {},
   "outputs": [],
   "source": [
    "#for user in usernames:\n",
    "#    plt.plot(gr.loc[\"live\"].loc[\"snake\"].loc[user][\"frequency_overall\"])"
   ]
  },
  {
   "cell_type": "code",
   "execution_count": 114,
   "id": "cf934e88",
   "metadata": {},
   "outputs": [],
   "source": [
    "#for user in usernames:\n",
    "#    plt.plot(gr.loc[\"retrospective\"].loc[\"mc\"].loc[user][\"frequency_overall\"], label=user)\n",
    "#plt.legend()"
   ]
  },
  {
   "cell_type": "code",
   "execution_count": 115,
   "id": "cf27bc74",
   "metadata": {},
   "outputs": [],
   "source": [
    "#gr.loc[\"retrospective\"]"
   ]
  },
  {
   "cell_type": "code",
   "execution_count": null,
   "id": "f0218e6d",
   "metadata": {},
   "outputs": [],
   "source": []
  }
 ],
 "metadata": {
  "kernelspec": {
   "display_name": "Python 3 (ipykernel)",
   "language": "python",
   "name": "python3"
  },
  "language_info": {
   "codemirror_mode": {
    "name": "ipython",
    "version": 3
   },
   "file_extension": ".py",
   "mimetype": "text/x-python",
   "name": "python",
   "nbconvert_exporter": "python",
   "pygments_lexer": "ipython3",
   "version": "3.9.18"
  }
 },
 "nbformat": 4,
 "nbformat_minor": 5
}
